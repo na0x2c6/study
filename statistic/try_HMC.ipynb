{
 "cells": [
  {
   "cell_type": "code",
   "execution_count": 12,
   "metadata": {},
   "outputs": [],
   "source": [
    "import pandas as pd\n",
    "import numpy as np\n",
    "import seaborn as sns\n",
    "import matplotlib.pyplot as plt\n",
    "from collections import deque\n",
    "from scipy import stats\n",
    "import sys"
   ]
  },
  {
   "cell_type": "code",
   "execution_count": 21,
   "metadata": {},
   "outputs": [],
   "source": [
    "alpha = 11\n",
    "_lambda = 13\n",
    "B = 1\n",
    "N = 100000 + B\n",
    "epsilon = 0.01\n",
    "L = 100\n",
    "initial = np.full(1, 2.5)"
   ]
  },
  {
   "cell_type": "code",
   "execution_count": 22,
   "metadata": {},
   "outputs": [],
   "source": [
    "def leapfrog(theta, p, h_prime):\n",
    "    half_next_p = p - (epsilon * h_prime(theta)) / 2\n",
    "    next_theta = theta + epsilon * half_next_p\n",
    "    next_p = half_next_p - (epsilon * h_prime(next_theta)) / 2\n",
    "    return (next_p, next_theta)"
   ]
  },
  {
   "cell_type": "code",
   "execution_count": 23,
   "metadata": {},
   "outputs": [],
   "source": [
    "def hamiltonian(theta, p, h):\n",
    "    return (\n",
    "        h(theta)\n",
    "        + (\n",
    "            np.sum(p ** 2) # 各次元がもつ運動エネルギーの足し合わせ\n",
    "             / 2\n",
    "        )\n",
    "    )"
   ]
  },
  {
   "cell_type": "code",
   "execution_count": 24,
   "metadata": {},
   "outputs": [],
   "source": [
    "def r(theta1, p1, theta2, p2, h):\n",
    "    return (\n",
    "        np.exp(hamiltonian(theta1, p1, h) - hamiltonian(theta2, p2, h))\n",
    "    )"
   ]
  },
  {
   "cell_type": "code",
   "execution_count": 25,
   "metadata": {},
   "outputs": [],
   "source": [
    "def hmc(h, h_prime):\n",
    "    data = np.empty((N, len(initial)))\n",
    "    data[0] = initial\n",
    "    accept_count = 1 # data[0] は受容とみなす\n",
    "    for i in range(1, N):\n",
    "        if not i % 1000: # 進捗用\n",
    "            sys.stdout.write(\"%s / %s %s %%  \\r\" % (i, N, np.round(100 * (i / N), decimals=2)))\n",
    "            \n",
    "        start_p = p = np.random.normal(0, 1, len(initial))\n",
    "        start_theta = theta = data[i - 1]\n",
    "\n",
    "        for _ in range(L):\n",
    "            p, theta = leapfrog(theta, p, h_prime)\n",
    "\n",
    "        if np.random.rand() < r(start_theta, start_p, theta, p, h):\n",
    "            data[i] = theta\n",
    "            accept_count = accept_count + 1\n",
    "        else:\n",
    "            data[i] = start_theta\n",
    "            \n",
    "    print(\"\\nacceptance ratio: %s \" % str(accept_count / N))\n",
    "    \n",
    "    return data"
   ]
  },
  {
   "cell_type": "code",
   "execution_count": 26,
   "metadata": {},
   "outputs": [
    {
     "name": "stdout",
     "output_type": "stream",
     "text": [
      "100000 / 100001 100.0 %  \n",
      "acceptance ratio: 0.999810001899981 \n"
     ]
    }
   ],
   "source": [
    "def h(x):\n",
    "    \"\"\"\n",
    "    目標分布（事後確率）関数の対数関数のマイナス。必ずスカラー値を返却させる\n",
    "    \"\"\"\n",
    "    return (_lambda * x) - ((alpha - 1) * np.log(x))\n",
    "\n",
    "def h_prime(x):\n",
    "    \"\"\"\n",
    "    目標分布関数の対数関数の微分のマイナス\n",
    "    \"\"\"\n",
    "    return _lambda - ((alpha - 1) / x)\n",
    "\n",
    "data = hmc(\n",
    "    h,\n",
    "    h_prime\n",
    ")"
   ]
  },
  {
   "cell_type": "code",
   "execution_count": 27,
   "metadata": {},
   "outputs": [
    {
     "data": {
      "text/plain": [
       "<matplotlib.axes._subplots.AxesSubplot at 0x7fbac21509d0>"
      ]
     },
     "execution_count": 27,
     "metadata": {},
     "output_type": "execute_result"
    },
    {
     "data": {
      "image/png": "[encoded data removed]",
      "text/plain": [
       "<Figure size 432x288 with 1 Axes>"
      ]
     },
     "metadata": {
      "needs_background": "light"
     },
     "output_type": "display_data"
    }
   ],
   "source": [
    "pd.DataFrame(data).plot()"
   ]
  },
  {
   "cell_type": "code",
   "execution_count": 28,
   "metadata": {},
   "outputs": [
    {
     "data": {
      "text/plain": [
       "<matplotlib.axes._subplots.AxesSubplot at 0x7fbac1e6be50>"
      ]
     },
     "execution_count": 28,
     "metadata": {},
     "output_type": "execute_result"
    },
    {
     "data": {
      "image/png": "[encoded data removed]",
      "text/plain": [
       "<Figure size 432x288 with 1 Axes>"
      ]
     },
     "metadata": {
      "needs_background": "light"
     },
     "output_type": "display_data"
    }
   ],
   "source": [
    "fig = plt.figure()\n",
    "ax = fig.add_subplot(1,1,1)\n",
    "sns.distplot(data[B:],bins=100, label='HMC', ax=ax)\n",
    "arr = np.arange(0, 2.5, 0.01)\n",
    "sns.lineplot(\n",
    "    data=pd.DataFrame(\n",
    "        data=stats.gamma.pdf(arr, alpha, scale=1/_lambda),\n",
    "        index=arr,\n",
    "        columns=['theoretical']\n",
    "    ),\n",
    "    ax=ax,\n",
    "    palette=['orange']\n",
    ")"
   ]
  }
 ],
 "metadata": {
  "kernelspec": {
   "display_name": "Python 3",
   "language": "python",
   "name": "python3"
  },
  "language_info": {
   "codemirror_mode": {
    "name": "ipython",
    "version": 3
   },
   "file_extension": ".py",
   "mimetype": "text/x-python",
   "name": "python",
   "nbconvert_exporter": "python",
   "pygments_lexer": "ipython3",
   "version": "3.7.6"
  }
 },
 "nbformat": 4,
 "nbformat_minor": 4
}
